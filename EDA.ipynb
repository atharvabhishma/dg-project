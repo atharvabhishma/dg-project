{
 "cells": [
  {
   "cell_type": "code",
   "execution_count": 2,
   "metadata": {},
   "outputs": [],
   "source": [
    "# Importing necessary libraries\n",
    "import pandas as pd\n",
    "import numpy as np\n",
    "import matplotlib.pyplot as plt\n",
    "import seaborn as sns"
   ]
  },
  {
   "cell_type": "code",
   "execution_count": 3,
   "metadata": {},
   "outputs": [],
   "source": [
    "df_city = pd.read_csv(\"Dataset/Dataset/City.csv\")"
   ]
  },
  {
   "cell_type": "code",
   "execution_count": 4,
   "metadata": {},
   "outputs": [],
   "source": [
    "df_cab = pd.read_csv(\"Dataset/Dataset/Cab_Data.csv\")"
   ]
  },
  {
   "cell_type": "code",
   "execution_count": 5,
   "metadata": {},
   "outputs": [],
   "source": [
    "df_customer = pd.read_csv(\"Dataset/Dataset/Customer_ID.csv\")"
   ]
  },
  {
   "cell_type": "code",
   "execution_count": 6,
   "metadata": {},
   "outputs": [],
   "source": [
    "df_transaction = pd.read_csv(\"Dataset/Dataset/Transaction_ID.csv\")\n"
   ]
  },
  {
   "cell_type": "code",
   "execution_count": 7,
   "metadata": {},
   "outputs": [
    {
     "data": {
      "text/html": [
       "<div>\n",
       "<style scoped>\n",
       "    .dataframe tbody tr th:only-of-type {\n",
       "        vertical-align: middle;\n",
       "    }\n",
       "\n",
       "    .dataframe tbody tr th {\n",
       "        vertical-align: top;\n",
       "    }\n",
       "\n",
       "    .dataframe thead th {\n",
       "        text-align: right;\n",
       "    }\n",
       "</style>\n",
       "<table border=\"1\" class=\"dataframe\">\n",
       "  <thead>\n",
       "    <tr style=\"text-align: right;\">\n",
       "      <th></th>\n",
       "      <th>Transaction ID</th>\n",
       "      <th>Date of Travel</th>\n",
       "      <th>Company</th>\n",
       "      <th>City</th>\n",
       "      <th>KM Travelled</th>\n",
       "      <th>Price Charged</th>\n",
       "      <th>Cost of Trip</th>\n",
       "    </tr>\n",
       "  </thead>\n",
       "  <tbody>\n",
       "    <tr>\n",
       "      <th>0</th>\n",
       "      <td>10000011</td>\n",
       "      <td>42377</td>\n",
       "      <td>Pink Cab</td>\n",
       "      <td>ATLANTA GA</td>\n",
       "      <td>30.45</td>\n",
       "      <td>370.95</td>\n",
       "      <td>313.635</td>\n",
       "    </tr>\n",
       "    <tr>\n",
       "      <th>1</th>\n",
       "      <td>10000012</td>\n",
       "      <td>42375</td>\n",
       "      <td>Pink Cab</td>\n",
       "      <td>ATLANTA GA</td>\n",
       "      <td>28.62</td>\n",
       "      <td>358.52</td>\n",
       "      <td>334.854</td>\n",
       "    </tr>\n",
       "    <tr>\n",
       "      <th>2</th>\n",
       "      <td>10000013</td>\n",
       "      <td>42371</td>\n",
       "      <td>Pink Cab</td>\n",
       "      <td>ATLANTA GA</td>\n",
       "      <td>9.04</td>\n",
       "      <td>125.20</td>\n",
       "      <td>97.632</td>\n",
       "    </tr>\n",
       "    <tr>\n",
       "      <th>3</th>\n",
       "      <td>10000014</td>\n",
       "      <td>42376</td>\n",
       "      <td>Pink Cab</td>\n",
       "      <td>ATLANTA GA</td>\n",
       "      <td>33.17</td>\n",
       "      <td>377.40</td>\n",
       "      <td>351.602</td>\n",
       "    </tr>\n",
       "    <tr>\n",
       "      <th>4</th>\n",
       "      <td>10000015</td>\n",
       "      <td>42372</td>\n",
       "      <td>Pink Cab</td>\n",
       "      <td>ATLANTA GA</td>\n",
       "      <td>8.73</td>\n",
       "      <td>114.62</td>\n",
       "      <td>97.776</td>\n",
       "    </tr>\n",
       "  </tbody>\n",
       "</table>\n",
       "</div>"
      ],
      "text/plain": [
       "   Transaction ID  Date of Travel   Company        City  KM Travelled  \\\n",
       "0        10000011           42377  Pink Cab  ATLANTA GA         30.45   \n",
       "1        10000012           42375  Pink Cab  ATLANTA GA         28.62   \n",
       "2        10000013           42371  Pink Cab  ATLANTA GA          9.04   \n",
       "3        10000014           42376  Pink Cab  ATLANTA GA         33.17   \n",
       "4        10000015           42372  Pink Cab  ATLANTA GA          8.73   \n",
       "\n",
       "   Price Charged  Cost of Trip  \n",
       "0         370.95       313.635  \n",
       "1         358.52       334.854  \n",
       "2         125.20        97.632  \n",
       "3         377.40       351.602  \n",
       "4         114.62        97.776  "
      ]
     },
     "execution_count": 7,
     "metadata": {},
     "output_type": "execute_result"
    }
   ],
   "source": [
    "df_cab.head()"
   ]
  },
  {
   "cell_type": "code",
   "execution_count": 8,
   "metadata": {},
   "outputs": [
    {
     "data": {
      "text/html": [
       "<div>\n",
       "<style scoped>\n",
       "    .dataframe tbody tr th:only-of-type {\n",
       "        vertical-align: middle;\n",
       "    }\n",
       "\n",
       "    .dataframe tbody tr th {\n",
       "        vertical-align: top;\n",
       "    }\n",
       "\n",
       "    .dataframe thead th {\n",
       "        text-align: right;\n",
       "    }\n",
       "</style>\n",
       "<table border=\"1\" class=\"dataframe\">\n",
       "  <thead>\n",
       "    <tr style=\"text-align: right;\">\n",
       "      <th></th>\n",
       "      <th>City</th>\n",
       "      <th>Population</th>\n",
       "      <th>Users</th>\n",
       "    </tr>\n",
       "  </thead>\n",
       "  <tbody>\n",
       "    <tr>\n",
       "      <th>0</th>\n",
       "      <td>NEW YORK NY</td>\n",
       "      <td>8,405,837</td>\n",
       "      <td>302,149</td>\n",
       "    </tr>\n",
       "    <tr>\n",
       "      <th>1</th>\n",
       "      <td>CHICAGO IL</td>\n",
       "      <td>1,955,130</td>\n",
       "      <td>164,468</td>\n",
       "    </tr>\n",
       "    <tr>\n",
       "      <th>2</th>\n",
       "      <td>LOS ANGELES CA</td>\n",
       "      <td>1,595,037</td>\n",
       "      <td>144,132</td>\n",
       "    </tr>\n",
       "    <tr>\n",
       "      <th>3</th>\n",
       "      <td>MIAMI FL</td>\n",
       "      <td>1,339,155</td>\n",
       "      <td>17,675</td>\n",
       "    </tr>\n",
       "    <tr>\n",
       "      <th>4</th>\n",
       "      <td>SILICON VALLEY</td>\n",
       "      <td>1,177,609</td>\n",
       "      <td>27,247</td>\n",
       "    </tr>\n",
       "  </tbody>\n",
       "</table>\n",
       "</div>"
      ],
      "text/plain": [
       "             City   Population      Users\n",
       "0     NEW YORK NY   8,405,837    302,149 \n",
       "1      CHICAGO IL   1,955,130    164,468 \n",
       "2  LOS ANGELES CA   1,595,037    144,132 \n",
       "3        MIAMI FL   1,339,155     17,675 \n",
       "4  SILICON VALLEY   1,177,609     27,247 "
      ]
     },
     "execution_count": 8,
     "metadata": {},
     "output_type": "execute_result"
    }
   ],
   "source": [
    "df_city.head()"
   ]
  },
  {
   "cell_type": "code",
   "execution_count": 9,
   "metadata": {},
   "outputs": [
    {
     "data": {
      "text/html": [
       "<div>\n",
       "<style scoped>\n",
       "    .dataframe tbody tr th:only-of-type {\n",
       "        vertical-align: middle;\n",
       "    }\n",
       "\n",
       "    .dataframe tbody tr th {\n",
       "        vertical-align: top;\n",
       "    }\n",
       "\n",
       "    .dataframe thead th {\n",
       "        text-align: right;\n",
       "    }\n",
       "</style>\n",
       "<table border=\"1\" class=\"dataframe\">\n",
       "  <thead>\n",
       "    <tr style=\"text-align: right;\">\n",
       "      <th></th>\n",
       "      <th>Customer ID</th>\n",
       "      <th>Gender</th>\n",
       "      <th>Age</th>\n",
       "      <th>Income (USD/Month)</th>\n",
       "    </tr>\n",
       "  </thead>\n",
       "  <tbody>\n",
       "    <tr>\n",
       "      <th>0</th>\n",
       "      <td>29290</td>\n",
       "      <td>Male</td>\n",
       "      <td>28</td>\n",
       "      <td>10813</td>\n",
       "    </tr>\n",
       "    <tr>\n",
       "      <th>1</th>\n",
       "      <td>27703</td>\n",
       "      <td>Male</td>\n",
       "      <td>27</td>\n",
       "      <td>9237</td>\n",
       "    </tr>\n",
       "    <tr>\n",
       "      <th>2</th>\n",
       "      <td>28712</td>\n",
       "      <td>Male</td>\n",
       "      <td>53</td>\n",
       "      <td>11242</td>\n",
       "    </tr>\n",
       "    <tr>\n",
       "      <th>3</th>\n",
       "      <td>28020</td>\n",
       "      <td>Male</td>\n",
       "      <td>23</td>\n",
       "      <td>23327</td>\n",
       "    </tr>\n",
       "    <tr>\n",
       "      <th>4</th>\n",
       "      <td>27182</td>\n",
       "      <td>Male</td>\n",
       "      <td>33</td>\n",
       "      <td>8536</td>\n",
       "    </tr>\n",
       "  </tbody>\n",
       "</table>\n",
       "</div>"
      ],
      "text/plain": [
       "   Customer ID Gender  Age  Income (USD/Month)\n",
       "0        29290   Male   28               10813\n",
       "1        27703   Male   27                9237\n",
       "2        28712   Male   53               11242\n",
       "3        28020   Male   23               23327\n",
       "4        27182   Male   33                8536"
      ]
     },
     "execution_count": 9,
     "metadata": {},
     "output_type": "execute_result"
    }
   ],
   "source": [
    "df_customer.head()"
   ]
  },
  {
   "cell_type": "code",
   "execution_count": 10,
   "metadata": {},
   "outputs": [
    {
     "data": {
      "text/html": [
       "<div>\n",
       "<style scoped>\n",
       "    .dataframe tbody tr th:only-of-type {\n",
       "        vertical-align: middle;\n",
       "    }\n",
       "\n",
       "    .dataframe tbody tr th {\n",
       "        vertical-align: top;\n",
       "    }\n",
       "\n",
       "    .dataframe thead th {\n",
       "        text-align: right;\n",
       "    }\n",
       "</style>\n",
       "<table border=\"1\" class=\"dataframe\">\n",
       "  <thead>\n",
       "    <tr style=\"text-align: right;\">\n",
       "      <th></th>\n",
       "      <th>Transaction ID</th>\n",
       "      <th>Customer ID</th>\n",
       "      <th>Payment_Mode</th>\n",
       "    </tr>\n",
       "  </thead>\n",
       "  <tbody>\n",
       "    <tr>\n",
       "      <th>0</th>\n",
       "      <td>10000011</td>\n",
       "      <td>29290</td>\n",
       "      <td>Card</td>\n",
       "    </tr>\n",
       "    <tr>\n",
       "      <th>1</th>\n",
       "      <td>10000012</td>\n",
       "      <td>27703</td>\n",
       "      <td>Card</td>\n",
       "    </tr>\n",
       "    <tr>\n",
       "      <th>2</th>\n",
       "      <td>10000013</td>\n",
       "      <td>28712</td>\n",
       "      <td>Cash</td>\n",
       "    </tr>\n",
       "    <tr>\n",
       "      <th>3</th>\n",
       "      <td>10000014</td>\n",
       "      <td>28020</td>\n",
       "      <td>Cash</td>\n",
       "    </tr>\n",
       "    <tr>\n",
       "      <th>4</th>\n",
       "      <td>10000015</td>\n",
       "      <td>27182</td>\n",
       "      <td>Card</td>\n",
       "    </tr>\n",
       "  </tbody>\n",
       "</table>\n",
       "</div>"
      ],
      "text/plain": [
       "   Transaction ID  Customer ID Payment_Mode\n",
       "0        10000011        29290         Card\n",
       "1        10000012        27703         Card\n",
       "2        10000013        28712         Cash\n",
       "3        10000014        28020         Cash\n",
       "4        10000015        27182         Card"
      ]
     },
     "execution_count": 10,
     "metadata": {},
     "output_type": "execute_result"
    }
   ],
   "source": [
    "df_transaction.head()"
   ]
  },
  {
   "cell_type": "code",
   "execution_count": 11,
   "metadata": {},
   "outputs": [
    {
     "name": "stdout",
     "output_type": "stream",
     "text": [
      "Cab Data Overview\n",
      "<class 'pandas.core.frame.DataFrame'>\n",
      "RangeIndex: 359392 entries, 0 to 359391\n",
      "Data columns (total 7 columns):\n",
      " #   Column          Non-Null Count   Dtype  \n",
      "---  ------          --------------   -----  \n",
      " 0   Transaction ID  359392 non-null  int64  \n",
      " 1   Date of Travel  359392 non-null  int64  \n",
      " 2   Company         359392 non-null  object \n",
      " 3   City            359392 non-null  object \n",
      " 4   KM Travelled    359392 non-null  float64\n",
      " 5   Price Charged   359392 non-null  float64\n",
      " 6   Cost of Trip    359392 non-null  float64\n",
      "dtypes: float64(3), int64(2), object(2)\n",
      "memory usage: 19.2+ MB\n",
      "   Transaction ID  Date of Travel   Company        City  KM Travelled  \\\n",
      "0        10000011           42377  Pink Cab  ATLANTA GA         30.45   \n",
      "1        10000012           42375  Pink Cab  ATLANTA GA         28.62   \n",
      "2        10000013           42371  Pink Cab  ATLANTA GA          9.04   \n",
      "3        10000014           42376  Pink Cab  ATLANTA GA         33.17   \n",
      "4        10000015           42372  Pink Cab  ATLANTA GA          8.73   \n",
      "\n",
      "   Price Charged  Cost of Trip  \n",
      "0         370.95       313.635  \n",
      "1         358.52       334.854  \n",
      "2         125.20        97.632  \n",
      "3         377.40       351.602  \n",
      "4         114.62        97.776   None\n"
     ]
    }
   ],
   "source": [
    "\n",
    "# Quick overview of the datasets\n",
    "print(\"Cab Data Overview\")\n",
    "print(df_cab.head(), df_cab.info())\n",
    "\n"
   ]
  },
  {
   "cell_type": "code",
   "execution_count": 12,
   "metadata": {},
   "outputs": [
    {
     "data": {
      "text/plain": [
       "(359392, 7)"
      ]
     },
     "execution_count": 12,
     "metadata": {},
     "output_type": "execute_result"
    }
   ],
   "source": [
    "df_cab.shape"
   ]
  },
  {
   "cell_type": "code",
   "execution_count": 13,
   "metadata": {},
   "outputs": [
    {
     "data": {
      "text/plain": [
       "Index(['Transaction ID', 'Date of Travel', 'Company', 'City', 'KM Travelled',\n",
       "       'Price Charged', 'Cost of Trip'],\n",
       "      dtype='object')"
      ]
     },
     "execution_count": 13,
     "metadata": {},
     "output_type": "execute_result"
    }
   ],
   "source": [
    "df_cab.columns"
   ]
  },
  {
   "cell_type": "code",
   "execution_count": 14,
   "metadata": {},
   "outputs": [
    {
     "data": {
      "text/plain": [
       "Transaction ID    0\n",
       "Date of Travel    0\n",
       "Company           0\n",
       "City              0\n",
       "KM Travelled      0\n",
       "Price Charged     0\n",
       "Cost of Trip      0\n",
       "dtype: int64"
      ]
     },
     "execution_count": 14,
     "metadata": {},
     "output_type": "execute_result"
    }
   ],
   "source": [
    "df_cab.isna().sum()"
   ]
  },
  {
   "cell_type": "code",
   "execution_count": 15,
   "metadata": {},
   "outputs": [
    {
     "data": {
      "text/plain": [
       "Transaction ID    359392\n",
       "Date of Travel      1095\n",
       "Company                2\n",
       "City                  19\n",
       "KM Travelled         874\n",
       "Price Charged      99176\n",
       "Cost of Trip       16291\n",
       "dtype: int64"
      ]
     },
     "execution_count": 15,
     "metadata": {},
     "output_type": "execute_result"
    }
   ],
   "source": [
    "df_cab.nunique()"
   ]
  },
  {
   "cell_type": "code",
   "execution_count": 16,
   "metadata": {},
   "outputs": [
    {
     "data": {
      "text/plain": [
       "0"
      ]
     },
     "execution_count": 16,
     "metadata": {},
     "output_type": "execute_result"
    }
   ],
   "source": [
    "df_cab.duplicated().sum()"
   ]
  },
  {
   "cell_type": "code",
   "execution_count": 18,
   "metadata": {},
   "outputs": [
    {
     "name": "stdout",
     "output_type": "stream",
     "text": [
      "\n",
      "Customer Data Overview\n",
      "<class 'pandas.core.frame.DataFrame'>\n",
      "RangeIndex: 49171 entries, 0 to 49170\n",
      "Data columns (total 4 columns):\n",
      " #   Column              Non-Null Count  Dtype \n",
      "---  ------              --------------  ----- \n",
      " 0   Customer ID         49171 non-null  int64 \n",
      " 1   Gender              49171 non-null  object\n",
      " 2   Age                 49171 non-null  int64 \n",
      " 3   Income (USD/Month)  49171 non-null  int64 \n",
      "dtypes: int64(3), object(1)\n",
      "memory usage: 1.5+ MB\n",
      "   Customer ID Gender  Age  Income (USD/Month)\n",
      "0        29290   Male   28               10813\n",
      "1        27703   Male   27                9237\n",
      "2        28712   Male   53               11242\n",
      "3        28020   Male   23               23327\n",
      "4        27182   Male   33                8536 None\n",
      "\n",
      "Transaction Data Overview\n",
      "<class 'pandas.core.frame.DataFrame'>\n",
      "RangeIndex: 440098 entries, 0 to 440097\n",
      "Data columns (total 3 columns):\n",
      " #   Column          Non-Null Count   Dtype \n",
      "---  ------          --------------   ----- \n",
      " 0   Transaction ID  440098 non-null  int64 \n",
      " 1   Customer ID     440098 non-null  int64 \n",
      " 2   Payment_Mode    440098 non-null  object\n",
      "dtypes: int64(2), object(1)\n",
      "memory usage: 10.1+ MB\n",
      "   Transaction ID  Customer ID Payment_Mode\n",
      "0        10000011        29290         Card\n",
      "1        10000012        27703         Card\n",
      "2        10000013        28712         Cash\n",
      "3        10000014        28020         Cash\n",
      "4        10000015        27182         Card None\n",
      "\n",
      "City Data Overview\n",
      "<class 'pandas.core.frame.DataFrame'>\n",
      "RangeIndex: 20 entries, 0 to 19\n",
      "Data columns (total 3 columns):\n",
      " #   Column      Non-Null Count  Dtype \n",
      "---  ------      --------------  ----- \n",
      " 0   City        20 non-null     object\n",
      " 1   Population  20 non-null     object\n",
      " 2   Users       20 non-null     object\n",
      "dtypes: object(3)\n",
      "memory usage: 612.0+ bytes\n",
      "             City   Population      Users\n",
      "0     NEW YORK NY   8,405,837    302,149 \n",
      "1      CHICAGO IL   1,955,130    164,468 \n",
      "2  LOS ANGELES CA   1,595,037    144,132 \n",
      "3        MIAMI FL   1,339,155     17,675 \n",
      "4  SILICON VALLEY   1,177,609     27,247  None\n"
     ]
    }
   ],
   "source": [
    "print(\"\\nCustomer Data Overview\")\n",
    "print(df_customer.head(), df_customer.info())\n",
    "\n",
    "print(\"\\nTransaction Data Overview\")\n",
    "print(df_transaction.head(), df_transaction.info())\n",
    "\n",
    "print(\"\\nCity Data Overview\")\n",
    "print(df_city.head(), df_city.info())"
   ]
  },
  {
   "cell_type": "code",
   "execution_count": 19,
   "metadata": {},
   "outputs": [
    {
     "data": {
      "text/plain": [
       "(49171, 4)"
      ]
     },
     "execution_count": 19,
     "metadata": {},
     "output_type": "execute_result"
    }
   ],
   "source": [
    "df_customer.shape"
   ]
  },
  {
   "cell_type": "code",
   "execution_count": 20,
   "metadata": {},
   "outputs": [
    {
     "data": {
      "text/plain": [
       "<bound method DataFrame.info of        Customer ID  Gender  Age  Income (USD/Month)\n",
       "0            29290    Male   28               10813\n",
       "1            27703    Male   27                9237\n",
       "2            28712    Male   53               11242\n",
       "3            28020    Male   23               23327\n",
       "4            27182    Male   33                8536\n",
       "...            ...     ...  ...                 ...\n",
       "49166        12490    Male   33               18713\n",
       "49167        14971    Male   30               15346\n",
       "49168        41414    Male   38                3960\n",
       "49169        41677    Male   23               19454\n",
       "49170        39761  Female   32               10128\n",
       "\n",
       "[49171 rows x 4 columns]>"
      ]
     },
     "execution_count": 20,
     "metadata": {},
     "output_type": "execute_result"
    }
   ],
   "source": [
    "df_customer.info"
   ]
  },
  {
   "cell_type": "code",
   "execution_count": 21,
   "metadata": {},
   "outputs": [
    {
     "data": {
      "text/plain": [
       "Index(['Customer ID', 'Gender', 'Age', 'Income (USD/Month)'], dtype='object')"
      ]
     },
     "execution_count": 21,
     "metadata": {},
     "output_type": "execute_result"
    }
   ],
   "source": [
    "df_customer.columns"
   ]
  },
  {
   "cell_type": "code",
   "execution_count": 22,
   "metadata": {},
   "outputs": [
    {
     "data": {
      "text/plain": [
       "Customer ID           0\n",
       "Gender                0\n",
       "Age                   0\n",
       "Income (USD/Month)    0\n",
       "dtype: int64"
      ]
     },
     "execution_count": 22,
     "metadata": {},
     "output_type": "execute_result"
    }
   ],
   "source": [
    "df_customer.isna().sum()"
   ]
  },
  {
   "cell_type": "code",
   "execution_count": 23,
   "metadata": {},
   "outputs": [
    {
     "data": {
      "text/plain": [
       "Customer ID           49171\n",
       "Gender                    2\n",
       "Age                      48\n",
       "Income (USD/Month)    23341\n",
       "dtype: int64"
      ]
     },
     "execution_count": 23,
     "metadata": {},
     "output_type": "execute_result"
    }
   ],
   "source": [
    "df_customer.nunique()"
   ]
  },
  {
   "cell_type": "code",
   "execution_count": 24,
   "metadata": {},
   "outputs": [
    {
     "name": "stdout",
     "output_type": "stream",
     "text": [
      "Index(['Customer ID', 'Gender', 'Age', 'Income (USD/Month)'], dtype='object')\n",
      "Index(['Transaction ID', 'Date of Travel', 'Company', 'City', 'KM Travelled',\n",
      "       'Price Charged', 'Cost of Trip'],\n",
      "      dtype='object')\n",
      "Index(['City', 'Population', 'Users'], dtype='object')\n",
      "Index(['Transaction ID', 'Customer ID', 'Payment_Mode'], dtype='object')\n"
     ]
    }
   ],
   "source": [
    "print(df_customer.columns)\n",
    "print(df_cab.columns)\n",
    "print(df_city.columns)\n",
    "print(df_transaction.columns)\n"
   ]
  },
  {
   "cell_type": "code",
   "execution_count": 26,
   "metadata": {},
   "outputs": [
    {
     "name": "stdout",
     "output_type": "stream",
     "text": [
      "Summary for df_customer:\n",
      "--------------------------------------------------\n",
      "Shape: (49171, 4)\n",
      "\n",
      "Data Types:\n",
      "Customer ID            int64\n",
      "Gender                object\n",
      "Age                    int64\n",
      "Income (USD/Month)     int64\n",
      "dtype: object\n",
      "\n",
      "Null Values:\n",
      "Customer ID           0\n",
      "Gender                0\n",
      "Age                   0\n",
      "Income (USD/Month)    0\n",
      "dtype: int64\n",
      "\n",
      "Duplicate Rows: 0\n",
      "\n",
      "Unique Values in Each Column:\n",
      "Customer ID           49171\n",
      "Gender                    2\n",
      "Age                      48\n",
      "Income (USD/Month)    23341\n",
      "dtype: int64\n",
      "\n",
      "Total Rows: 49171\n",
      "-------------------------------------------------- \n",
      "\n",
      "Summary for df_cab:\n",
      "--------------------------------------------------\n",
      "Shape: (359392, 7)\n",
      "\n",
      "Data Types:\n",
      "Transaction ID      int64\n",
      "Date of Travel      int64\n",
      "Company            object\n",
      "City               object\n",
      "KM Travelled      float64\n",
      "Price Charged     float64\n",
      "Cost of Trip      float64\n",
      "dtype: object\n",
      "\n",
      "Null Values:\n",
      "Transaction ID    0\n",
      "Date of Travel    0\n",
      "Company           0\n",
      "City              0\n",
      "KM Travelled      0\n",
      "Price Charged     0\n",
      "Cost of Trip      0\n",
      "dtype: int64\n",
      "\n",
      "Duplicate Rows: 0\n",
      "\n",
      "Unique Values in Each Column:\n",
      "Transaction ID    359392\n",
      "Date of Travel      1095\n",
      "Company                2\n",
      "City                  19\n",
      "KM Travelled         874\n",
      "Price Charged      99176\n",
      "Cost of Trip       16291\n",
      "dtype: int64\n",
      "\n",
      "Total Rows: 359392\n",
      "-------------------------------------------------- \n",
      "\n",
      "Summary for df_city:\n",
      "--------------------------------------------------\n",
      "Shape: (20, 3)\n",
      "\n",
      "Data Types:\n",
      "City          object\n",
      "Population    object\n",
      "Users         object\n",
      "dtype: object\n",
      "\n",
      "Null Values:\n",
      "City          0\n",
      "Population    0\n",
      "Users         0\n",
      "dtype: int64\n",
      "\n",
      "Duplicate Rows: 0\n",
      "\n",
      "Unique Values in Each Column:\n",
      "City          20\n",
      "Population    20\n",
      "Users         20\n",
      "dtype: int64\n",
      "\n",
      "Total Rows: 20\n",
      "-------------------------------------------------- \n",
      "\n",
      "Summary for df_transaction:\n",
      "--------------------------------------------------\n",
      "Shape: (440098, 3)\n",
      "\n",
      "Data Types:\n",
      "Transaction ID     int64\n",
      "Customer ID        int64\n",
      "Payment_Mode      object\n",
      "dtype: object\n",
      "\n",
      "Null Values:\n",
      "Transaction ID    0\n",
      "Customer ID       0\n",
      "Payment_Mode      0\n",
      "dtype: int64\n",
      "\n",
      "Duplicate Rows: 0\n",
      "\n",
      "Unique Values in Each Column:\n",
      "Transaction ID    440098\n",
      "Customer ID        49171\n",
      "Payment_Mode           2\n",
      "dtype: int64\n",
      "\n",
      "Total Rows: 440098\n",
      "-------------------------------------------------- \n",
      "\n"
     ]
    }
   ],
   "source": [
    "# Function to summarize data for any dataframe\n",
    "def summarize_data(df, df_name):\n",
    "    print(f\"Summary for {df_name}:\")\n",
    "    print(\"-\" * 50)\n",
    "    \n",
    "    # Shape of the dataframe\n",
    "    print(f\"Shape: {df.shape}\")\n",
    "    \n",
    "    # Data Types\n",
    "    print(\"\\nData Types:\")\n",
    "    print(df.dtypes)\n",
    "    \n",
    "    # Null Values\n",
    "    print(\"\\nNull Values:\")\n",
    "    print(df.isnull().sum())\n",
    "    \n",
    "    # Duplicate Rows\n",
    "    duplicate_count = df.duplicated().sum()\n",
    "    print(\"\\nDuplicate Rows:\", duplicate_count)\n",
    "    \n",
    "    # Unique Values\n",
    "    print(\"\\nUnique Values in Each Column:\")\n",
    "    print(df.nunique())\n",
    "    \n",
    "    # Total Rows\n",
    "    print(\"\\nTotal Rows:\", len(df))\n",
    "    print(\"-\" * 50, \"\\n\")\n",
    "\n",
    "# Summarize each dataframe\n",
    "summarize_data(df_customer, \"df_customer\")\n",
    "summarize_data(df_cab, \"df_cab\")\n",
    "summarize_data(df_city, \"df_city\")\n",
    "summarize_data(df_transaction, \"df_transaction\")\n"
   ]
  },
  {
   "cell_type": "code",
   "execution_count": 27,
   "metadata": {},
   "outputs": [
    {
     "name": "stdout",
     "output_type": "stream",
     "text": [
      "Master Data Columns: Index(['Transaction ID', 'Date of Travel', 'Company', 'City', 'KM Travelled',\n",
      "       'Price Charged', 'Cost of Trip', 'Customer ID', 'Payment_Mode',\n",
      "       'Gender', 'Age', 'Income (USD/Month)', 'Population', 'Users'],\n",
      "      dtype='object')\n",
      "Master Data Preview:\n",
      "    Transaction ID  Date of Travel   Company        City  KM Travelled  \\\n",
      "0        10000011           42377  Pink Cab  ATLANTA GA         30.45   \n",
      "1        10000012           42375  Pink Cab  ATLANTA GA         28.62   \n",
      "2        10000013           42371  Pink Cab  ATLANTA GA          9.04   \n",
      "3        10000014           42376  Pink Cab  ATLANTA GA         33.17   \n",
      "4        10000015           42372  Pink Cab  ATLANTA GA          8.73   \n",
      "\n",
      "   Price Charged  Cost of Trip  Customer ID Payment_Mode Gender  Age  \\\n",
      "0         370.95       313.635        29290         Card   Male   28   \n",
      "1         358.52       334.854        27703         Card   Male   27   \n",
      "2         125.20        97.632        28712         Cash   Male   53   \n",
      "3         377.40       351.602        28020         Cash   Male   23   \n",
      "4         114.62        97.776        27182         Card   Male   33   \n",
      "\n",
      "   Income (USD/Month) Population     Users  \n",
      "0               10813   814,885    24,701   \n",
      "1                9237   814,885    24,701   \n",
      "2               11242   814,885    24,701   \n",
      "3               23327   814,885    24,701   \n",
      "4                8536   814,885    24,701   \n"
     ]
    }
   ],
   "source": [
    "# Merge df_cab with df_transaction\n",
    "cab_transaction = pd.merge(df_cab, df_transaction, on=\"Transaction ID\", how=\"inner\")\n",
    "\n",
    "# Merge with df_customer to include demographics\n",
    "cab_customer_data = pd.merge(cab_transaction, df_customer, on=\"Customer ID\", how=\"inner\")\n",
    "\n",
    "# Merge with df_city to add city-level population and user data\n",
    "master_data = pd.merge(cab_customer_data, df_city, on=\"City\", how=\"inner\")\n",
    "\n",
    "# View the structure of the merged dataset\n",
    "print(\"Master Data Columns:\", master_data.columns)\n",
    "print(\"Master Data Preview:\\n\", master_data.head())\n"
   ]
  },
  {
   "cell_type": "code",
   "execution_count": 28,
   "metadata": {},
   "outputs": [
    {
     "name": "stdout",
     "output_type": "stream",
     "text": [
      "Summary for Master data:\n",
      "--------------------------------------------------\n",
      "Shape: (359392, 14)\n",
      "\n",
      "Data Types:\n",
      "Transaction ID          int64\n",
      "Date of Travel          int64\n",
      "Company                object\n",
      "City                   object\n",
      "KM Travelled          float64\n",
      "Price Charged         float64\n",
      "Cost of Trip          float64\n",
      "Customer ID             int64\n",
      "Payment_Mode           object\n",
      "Gender                 object\n",
      "Age                     int64\n",
      "Income (USD/Month)      int64\n",
      "Population             object\n",
      "Users                  object\n",
      "dtype: object\n",
      "\n",
      "Null Values:\n",
      "Transaction ID        0\n",
      "Date of Travel        0\n",
      "Company               0\n",
      "City                  0\n",
      "KM Travelled          0\n",
      "Price Charged         0\n",
      "Cost of Trip          0\n",
      "Customer ID           0\n",
      "Payment_Mode          0\n",
      "Gender                0\n",
      "Age                   0\n",
      "Income (USD/Month)    0\n",
      "Population            0\n",
      "Users                 0\n",
      "dtype: int64\n",
      "\n",
      "Duplicate Rows: 0\n",
      "\n",
      "Unique Values in Each Column:\n",
      "Transaction ID        359392\n",
      "Date of Travel          1095\n",
      "Company                    2\n",
      "City                      19\n",
      "KM Travelled             874\n",
      "Price Charged          99176\n",
      "Cost of Trip           16291\n",
      "Customer ID            46148\n",
      "Payment_Mode               2\n",
      "Gender                     2\n",
      "Age                       48\n",
      "Income (USD/Month)     22725\n",
      "Population                19\n",
      "Users                     19\n",
      "dtype: int64\n",
      "\n",
      "Total Rows: 359392\n",
      "-------------------------------------------------- \n",
      "\n"
     ]
    }
   ],
   "source": [
    "summarize_data(master_data,\"Master data\")"
   ]
  },
  {
   "cell_type": "code",
   "execution_count": 29,
   "metadata": {},
   "outputs": [
    {
     "data": {
      "text/plain": [
       "Index(['Transaction ID', 'Date of Travel', 'Company', 'City', 'KM Travelled',\n",
       "       'Price Charged', 'Cost of Trip', 'Customer ID', 'Payment_Mode',\n",
       "       'Gender', 'Age', 'Income (USD/Month)', 'Population', 'Users'],\n",
       "      dtype='object')"
      ]
     },
     "execution_count": 29,
     "metadata": {},
     "output_type": "execute_result"
    }
   ],
   "source": [
    "master_data.columns"
   ]
  },
  {
   "cell_type": "code",
   "execution_count": 30,
   "metadata": {},
   "outputs": [
    {
     "data": {
      "text/plain": [
       "<bound method NDFrame.head of         Transaction ID  Date of Travel     Company           City  \\\n",
       "0             10000011           42377    Pink Cab     ATLANTA GA   \n",
       "1             10000012           42375    Pink Cab     ATLANTA GA   \n",
       "2             10000013           42371    Pink Cab     ATLANTA GA   \n",
       "3             10000014           42376    Pink Cab     ATLANTA GA   \n",
       "4             10000015           42372    Pink Cab     ATLANTA GA   \n",
       "...                ...             ...         ...            ...   \n",
       "359387        10440101           43108  Yellow Cab  WASHINGTON DC   \n",
       "359388        10440104           43104  Yellow Cab  WASHINGTON DC   \n",
       "359389        10440105           43105  Yellow Cab  WASHINGTON DC   \n",
       "359390        10440106           43105  Yellow Cab  WASHINGTON DC   \n",
       "359391        10440107           43102  Yellow Cab  WASHINGTON DC   \n",
       "\n",
       "        KM Travelled  Price Charged  Cost of Trip  Customer ID Payment_Mode  \\\n",
       "0              30.45         370.95      313.6350        29290         Card   \n",
       "1              28.62         358.52      334.8540        27703         Card   \n",
       "2               9.04         125.20       97.6320        28712         Cash   \n",
       "3              33.17         377.40      351.6020        28020         Cash   \n",
       "4               8.73         114.62       97.7760        27182         Card   \n",
       "...              ...            ...           ...          ...          ...   \n",
       "359387          4.80          69.24       63.3600        52392         Cash   \n",
       "359388          8.40         113.75      106.8480        53286         Cash   \n",
       "359389         27.75         437.07      349.6500        52265         Cash   \n",
       "359390          8.80         146.19      114.0480        52175         Card   \n",
       "359391         12.76         191.58      177.6192        52917         Card   \n",
       "\n",
       "       Gender  Age  Income (USD/Month) Population      Users  \n",
       "0        Male   28               10813   814,885     24,701   \n",
       "1        Male   27                9237   814,885     24,701   \n",
       "2        Male   53               11242   814,885     24,701   \n",
       "3        Male   23               23327   814,885     24,701   \n",
       "4        Male   33                8536   814,885     24,701   \n",
       "...       ...  ...                 ...        ...        ...  \n",
       "359387   Male   24               15651   418,859    127,001   \n",
       "359388   Male   32                6528   418,859    127,001   \n",
       "359389   Male   56                7966   418,859    127,001   \n",
       "359390   Male   32                6423   418,859    127,001   \n",
       "359391   Male   20               11284   418,859    127,001   \n",
       "\n",
       "[359392 rows x 14 columns]>"
      ]
     },
     "execution_count": 30,
     "metadata": {},
     "output_type": "execute_result"
    }
   ],
   "source": [
    "master_data.head"
   ]
  },
  {
   "cell_type": "code",
   "execution_count": 33,
   "metadata": {},
   "outputs": [],
   "source": [
    "# define numerical & categorical columns\n",
    "numeric_features = [feature for feature in master_data.columns if master_data[feature].dtype != 'O']\n",
    "categorical_features = [feature for feature in master_data.columns if master_data[feature].dtype == 'O']"
   ]
  },
  {
   "cell_type": "code",
   "execution_count": 34,
   "metadata": {},
   "outputs": [
    {
     "name": "stdout",
     "output_type": "stream",
     "text": [
      "We have 8 numerical features : ['Transaction ID', 'Date of Travel', 'KM Travelled', 'Price Charged', 'Cost of Trip', 'Customer ID', 'Age', 'Income (USD/Month)']\n",
      "\n",
      "We have 6 categorical features : ['Company', 'City', 'Payment_Mode', 'Gender', 'Population', 'Users']\n"
     ]
    }
   ],
   "source": [
    "# print columns\n",
    "print('We have {} numerical features : {}'.format(len(numeric_features), numeric_features))\n",
    "print('\\nWe have {} categorical features : {}'.format(len(categorical_features), categorical_features))"
   ]
  },
  {
   "cell_type": "code",
   "execution_count": 35,
   "metadata": {},
   "outputs": [
    {
     "data": {
      "text/plain": [
       "<bound method NDFrame.head of         Transaction ID  Date of Travel     Company           City  \\\n",
       "0             10000011           42377    Pink Cab     ATLANTA GA   \n",
       "1             10000012           42375    Pink Cab     ATLANTA GA   \n",
       "2             10000013           42371    Pink Cab     ATLANTA GA   \n",
       "3             10000014           42376    Pink Cab     ATLANTA GA   \n",
       "4             10000015           42372    Pink Cab     ATLANTA GA   \n",
       "...                ...             ...         ...            ...   \n",
       "359387        10440101           43108  Yellow Cab  WASHINGTON DC   \n",
       "359388        10440104           43104  Yellow Cab  WASHINGTON DC   \n",
       "359389        10440105           43105  Yellow Cab  WASHINGTON DC   \n",
       "359390        10440106           43105  Yellow Cab  WASHINGTON DC   \n",
       "359391        10440107           43102  Yellow Cab  WASHINGTON DC   \n",
       "\n",
       "        KM Travelled  Price Charged  Cost of Trip  Customer ID Payment_Mode  \\\n",
       "0              30.45         370.95      313.6350        29290         Card   \n",
       "1              28.62         358.52      334.8540        27703         Card   \n",
       "2               9.04         125.20       97.6320        28712         Cash   \n",
       "3              33.17         377.40      351.6020        28020         Cash   \n",
       "4               8.73         114.62       97.7760        27182         Card   \n",
       "...              ...            ...           ...          ...          ...   \n",
       "359387          4.80          69.24       63.3600        52392         Cash   \n",
       "359388          8.40         113.75      106.8480        53286         Cash   \n",
       "359389         27.75         437.07      349.6500        52265         Cash   \n",
       "359390          8.80         146.19      114.0480        52175         Card   \n",
       "359391         12.76         191.58      177.6192        52917         Card   \n",
       "\n",
       "       Gender  Age  Income (USD/Month) Population      Users  \n",
       "0        Male   28               10813   814,885     24,701   \n",
       "1        Male   27                9237   814,885     24,701   \n",
       "2        Male   53               11242   814,885     24,701   \n",
       "3        Male   23               23327   814,885     24,701   \n",
       "4        Male   33                8536   814,885     24,701   \n",
       "...       ...  ...                 ...        ...        ...  \n",
       "359387   Male   24               15651   418,859    127,001   \n",
       "359388   Male   32                6528   418,859    127,001   \n",
       "359389   Male   56                7966   418,859    127,001   \n",
       "359390   Male   32                6423   418,859    127,001   \n",
       "359391   Male   20               11284   418,859    127,001   \n",
       "\n",
       "[359392 rows x 14 columns]>"
      ]
     },
     "execution_count": 35,
     "metadata": {},
     "output_type": "execute_result"
    }
   ],
   "source": [
    "master_data.head"
   ]
  },
  {
   "cell_type": "code",
   "execution_count": 36,
   "metadata": {},
   "outputs": [
    {
     "name": "stdout",
     "output_type": "stream",
     "text": [
      "Revenue per company:\n",
      " Company\n",
      "Yellow Cab    125,853,887.19\n",
      "Pink Cab       26,328,251.33\n",
      "Name: Price Charged, dtype: object\n"
     ]
    }
   ],
   "source": [
    "# Calculate revenue per company\n",
    "company_revenue = master_data.groupby(\"Company\")[\"Price Charged\"].sum()\n",
    "\n",
    "# Sort and display the results\n",
    "company_revenue = company_revenue.sort_values(ascending=False)\n",
    "# Convert the revenue to decimal format and print\n",
    "company_revenue = company_revenue.apply(lambda x: f\"{x:,.2f}\")\n",
    "print(\"Revenue per company:\\n\", company_revenue)\n"
   ]
  },
  {
   "cell_type": "code",
   "execution_count": 37,
   "metadata": {},
   "outputs": [
    {
     "name": "stdout",
     "output_type": "stream",
     "text": [
      "Average Price per Kilometer by Company:\n",
      " Company\n",
      "Pink Cab      13.768510\n",
      "Yellow Cab    20.306073\n",
      "Name: Price per KM, dtype: float64\n"
     ]
    }
   ],
   "source": [
    "# Calculate average price per kilometer for each company\n",
    "master_data[\"Price per KM\"] = master_data[\"Price Charged\"] / master_data[\"KM Travelled\"]\n",
    "average_price_per_km = master_data.groupby(\"Company\")[\"Price per KM\"].mean()\n",
    "\n",
    "print(\"Average Price per Kilometer by Company:\\n\", average_price_per_km)\n"
   ]
  },
  {
   "cell_type": "code",
   "execution_count": 38,
   "metadata": {},
   "outputs": [
    {
     "name": "stdout",
     "output_type": "stream",
     "text": [
      "Top cities by revenue:\n",
      " City\n",
      "NEW YORK NY       56954061.67\n",
      "CHICAGO IL        19841318.52\n",
      "LOS ANGELES CA    17795624.41\n",
      "WASHINGTON DC     16366703.83\n",
      "BOSTON MA         10359755.42\n",
      "Name: Price Charged, dtype: float64\n"
     ]
    }
   ],
   "source": [
    "# Calculate revenue per city\n",
    "city_revenue = master_data.groupby(\"City\")[\"Price Charged\"].sum()\n",
    "\n",
    "# Sort and display top cities by revenue\n",
    "city_revenue = city_revenue.sort_values(ascending=False)\n",
    "print(\"Top cities by revenue:\\n\", city_revenue.head())\n"
   ]
  },
  {
   "cell_type": "code",
   "execution_count": 39,
   "metadata": {},
   "outputs": [
    {
     "name": "stdout",
     "output_type": "stream",
     "text": [
      "Gender Distribution of Cab Users:\n",
      " Gender\n",
      "Male      205912\n",
      "Female    153480\n",
      "Name: count, dtype: int64\n"
     ]
    }
   ],
   "source": [
    "# Count users by gender\n",
    "gender_distribution = master_data[\"Gender\"].value_counts()\n",
    "\n",
    "print(\"Gender Distribution of Cab Users:\\n\", gender_distribution)\n"
   ]
  },
  {
   "cell_type": "code",
   "execution_count": 40,
   "metadata": {},
   "outputs": [
    {
     "ename": "NameError",
     "evalue": "name 'city_company_revenue' is not defined",
     "output_type": "error",
     "traceback": [
      "\u001b[1;31m---------------------------------------------------------------------------\u001b[0m",
      "\u001b[1;31mNameError\u001b[0m                                 Traceback (most recent call last)",
      "Cell \u001b[1;32mIn[40], line 4\u001b[0m\n\u001b[0;32m      1\u001b[0m \u001b[38;5;28;01mimport\u001b[39;00m \u001b[38;5;21;01mmatplotlib\u001b[39;00m\u001b[38;5;21;01m.\u001b[39;00m\u001b[38;5;21;01mpyplot\u001b[39;00m \u001b[38;5;28;01mas\u001b[39;00m \u001b[38;5;21;01mplt\u001b[39;00m\n\u001b[0;32m      3\u001b[0m \u001b[38;5;66;03m# Unstack the grouped revenue data for easy plotting\u001b[39;00m\n\u001b[1;32m----> 4\u001b[0m city_company_revenue_unstacked \u001b[38;5;241m=\u001b[39m city_company_revenue\u001b[38;5;241m.\u001b[39munstack()\n\u001b[0;32m      6\u001b[0m \u001b[38;5;66;03m# Plot the data\u001b[39;00m\n\u001b[0;32m      7\u001b[0m city_company_revenue_unstacked\u001b[38;5;241m.\u001b[39mplot(kind\u001b[38;5;241m=\u001b[39m\u001b[38;5;124m\"\u001b[39m\u001b[38;5;124mbar\u001b[39m\u001b[38;5;124m\"\u001b[39m, figsize\u001b[38;5;241m=\u001b[39m(\u001b[38;5;241m12\u001b[39m, \u001b[38;5;241m6\u001b[39m))\n",
      "\u001b[1;31mNameError\u001b[0m: name 'city_company_revenue' is not defined"
     ]
    }
   ],
   "source": [
    "import matplotlib.pyplot as plt\n",
    "\n",
    "# Unstack the grouped revenue data for easy plotting\n",
    "city_company_revenue_unstacked = city_company_revenue.unstack()\n",
    "\n",
    "# Plot the data\n",
    "city_company_revenue_unstacked.plot(kind=\"bar\", figsize=(12, 6))\n",
    "plt.title(\"Revenue per Company in Different Cities\")\n",
    "plt.ylabel(\"Revenue\")\n",
    "plt.xlabel(\"City\")\n",
    "plt.legend(title=\"Company\")\n",
    "plt.tight_layout()\n",
    "plt.show()\n"
   ]
  },
  {
   "cell_type": "code",
   "execution_count": 41,
   "metadata": {},
   "outputs": [
    {
     "name": "stdout",
     "output_type": "stream",
     "text": [
      "Average Price per Kilometer per Company in Different Cities:\n",
      " Company          Pink Cab  Yellow Cab\n",
      "City                                 \n",
      "ATLANTA GA      13.412805   18.986825\n",
      "AUSTIN TX       14.600816   18.769458\n",
      "BOSTON MA       13.233061   15.933131\n",
      "CHICAGO IL      12.504731   16.061629\n",
      "DALLAS TX       11.811987   21.849743\n",
      "DENVER CO       12.262452   19.742478\n",
      "LOS ANGELES CA  13.497205   18.346302\n",
      "MIAMI FL        14.600232   19.093354\n",
      "NASHVILLE TN    12.487958   16.403922\n",
      "NEW YORK NY     15.789837   26.880827\n",
      "ORANGE COUNTY   14.029366   19.629968\n",
      "PHOENIX AZ      12.892271   19.021860\n",
      "PITTSBURGH PA   12.064641   17.747700\n",
      "SACRAMENTO CA   12.821256   15.794937\n",
      "SAN DIEGO CA    13.639490   17.508581\n",
      "SEATTLE WA      12.840638   17.314783\n",
      "SILICON VALLEY  14.903428   22.258054\n",
      "TUCSON AZ       14.282894   16.380297\n",
      "WASHINGTON DC   13.310263   16.833317\n"
     ]
    },
    {
     "data": {
      "image/png": "[encoded data removed]",
      "text/plain": [
       "<Figure size 1400x700 with 1 Axes>"
      ]
     },
     "metadata": {},
     "output_type": "display_data"
    }
   ],
   "source": [
    "import matplotlib.pyplot as plt\n",
    "\n",
    "# Calculate average price per kilometer for each company in each city\n",
    "master_data[\"Price per KM\"] = master_data[\"Price Charged\"] / master_data[\"KM Travelled\"]\n",
    "avg_price_per_km_city_company = master_data.groupby([\"City\", \"Company\"])[\"Price per KM\"].mean()\n",
    "\n",
    "# Unstack the grouped data for better visualization\n",
    "avg_price_per_km_unstacked = avg_price_per_km_city_company.unstack()\n",
    "\n",
    "# Print the data\n",
    "print(\"Average Price per Kilometer per Company in Different Cities:\\n\", avg_price_per_km_unstacked)\n",
    "\n",
    "# Plot the data\n",
    "avg_price_per_km_unstacked.plot(kind=\"bar\", figsize=(14, 7), width=0.8)\n",
    "plt.title(\"Average Price per Kilometer per Company in Different Cities\", fontsize=14)\n",
    "plt.ylabel(\"Average Price per KM\", fontsize=12)\n",
    "plt.xlabel(\"City\", fontsize=12)\n",
    "plt.xticks(rotation=45)\n",
    "plt.legend(title=\"Company\")\n",
    "plt.tight_layout()\n",
    "plt.show()\n",
    "\n",
    "\n"
   ]
  },
  {
   "cell_type": "code",
   "execution_count": 42,
   "metadata": {},
   "outputs": [
    {
     "name": "stdout",
     "output_type": "stream",
     "text": [
      "Number of Transactions per Customer:\n",
      " Customer ID\n",
      "494      54\n",
      "2939     53\n",
      "2766     51\n",
      "1070     51\n",
      "858      50\n",
      "         ..\n",
      "54720     1\n",
      "56479     1\n",
      "55371     1\n",
      "55475     1\n",
      "39761     1\n",
      "Name: count, Length: 46148, dtype: int64\n"
     ]
    },
    {
     "data": {
      "image/png": "[encoded data removed]",
      "text/plain": [
       "<Figure size 1000x600 with 1 Axes>"
      ]
     },
     "metadata": {},
     "output_type": "display_data"
    }
   ],
   "source": [
    "import matplotlib.pyplot as plt\n",
    "\n",
    "# Count the number of transactions per customer\n",
    "repeat_customers = master_data[\"Customer ID\"].value_counts()\n",
    "\n",
    "# Print the data (optional)\n",
    "print(\"Number of Transactions per Customer:\\n\", repeat_customers)\n",
    "\n",
    "# Plot the distribution of transactions per customer\n",
    "plt.figure(figsize=(10, 6))\n",
    "plt.hist(repeat_customers, bins=range(1, repeat_customers.max() + 2), edgecolor=\"black\", alpha=0.7)\n",
    "plt.title(\"Distribution of Transactions per Customer\", fontsize=14)\n",
    "plt.xlabel(\"Number of Transactions\", fontsize=12)\n",
    "plt.ylabel(\"Number of Customers\", fontsize=12)\n",
    "plt.xticks(range(1, repeat_customers.max() + 1))\n",
    "plt.grid(axis=\"y\", linestyle=\"--\", alpha=0.7)\n",
    "plt.tight_layout()\n",
    "plt.show()\n"
   ]
  },
  {
   "cell_type": "code",
   "execution_count": 43,
   "metadata": {},
   "outputs": [
    {
     "data": {
      "image/png": "[encoded data removed]",
      "text/plain": [
       "<Figure size 1200x600 with 1 Axes>"
      ]
     },
     "metadata": {},
     "output_type": "display_data"
    }
   ],
   "source": [
    "import matplotlib.pyplot as plt\n",
    "\n",
    "# Separate the data by company\n",
    "repeat_customers_by_company = master_data.groupby(\"Company\")[\"Customer ID\"].value_counts()\n",
    "\n",
    "# Prepare data for visualization\n",
    "yellow_cab_repeat = repeat_customers_by_company[\"Yellow Cab\"]\n",
    "pink_cab_repeat = repeat_customers_by_company[\"Pink Cab\"]\n",
    "\n",
    "# Plot the histograms for each company\n",
    "plt.figure(figsize=(12, 6))\n",
    "\n",
    "# Yellow Cab\n",
    "plt.hist(yellow_cab_repeat, bins=range(1, yellow_cab_repeat.max() + 2), alpha=0.6, edgecolor=\"black\", label=\"Yellow Cab\")\n",
    "\n",
    "# Pink Cab\n",
    "plt.hist(pink_cab_repeat, bins=range(1, pink_cab_repeat.max() + 2), alpha=0.6, edgecolor=\"black\", label=\"Pink Cab\")\n",
    "\n",
    "# Customizations\n",
    "plt.title(\"Distribution of Transactions per Customer (By Cab Company)\", fontsize=14)\n",
    "plt.xlabel(\"Number of Transactions\", fontsize=12)\n",
    "plt.ylabel(\"Number of Customers\", fontsize=12)\n",
    "plt.legend(title=\"Company\")\n",
    "plt.xticks(range(1, max(yellow_cab_repeat.max(), pink_cab_repeat.max()) + 1))\n",
    "plt.grid(axis=\"y\", linestyle=\"--\", alpha=0.7)\n",
    "plt.tight_layout()\n",
    "plt.show()\n"
   ]
  },
  {
   "cell_type": "code",
   "execution_count": 48,
   "metadata": {},
   "outputs": [
    {
     "name": "stdout",
     "output_type": "stream",
     "text": [
      "0   1970-01-01 00:00:00.000042377\n",
      "1   1970-01-01 00:00:00.000042375\n",
      "2   1970-01-01 00:00:00.000042371\n",
      "3   1970-01-01 00:00:00.000042376\n",
      "4   1970-01-01 00:00:00.000042372\n",
      "Name: Date of Travel, dtype: datetime64[ns]\n",
      "datetime64[ns]\n",
      "  Date of Travel  Year\n",
      "0     2016-01-08  2016\n",
      "1     2016-01-06  2016\n",
      "2     2016-01-02  2016\n",
      "3     2016-01-07  2016\n",
      "4     2016-01-03  2016\n"
     ]
    }
   ],
   "source": [
    "# Check the data type of the \"Date of Travel\" column\n",
    "print(master_data[\"Date of Travel\"].head())\n",
    "print(master_data[\"Date of Travel\"].dtype)\n",
    "\n",
    "# Convert to numeric if necessary\n",
    "if not pd.api.types.is_numeric_dtype(master_data[\"Date of Travel\"]):\n",
    "    # Convert to numeric, forcing errors to NaN\n",
    "    master_data[\"Date of Travel\"] = pd.to_numeric(master_data[\"Date of Travel\"], errors='coerce')\n",
    "\n",
    "# Drop rows with NaN values in \"Date of Travel\" (if any)\n",
    "master_data = master_data.dropna(subset=[\"Date of Travel\"])\n",
    "\n",
    "# Convert the numeric Excel serial dates to datetime\n",
    "master_data[\"Date of Travel\"] = pd.to_datetime(master_data[\"Date of Travel\"], origin='1899-12-30', unit='D')\n",
    "\n",
    "# Extract the year\n",
    "master_data[\"Year\"] = master_data[\"Date of Travel\"].dt.year\n",
    "\n",
    "# Display the updated DataFrame\n",
    "print(master_data[[\"Date of Travel\", \"Year\"]].head())\n"
   ]
  },
  {
   "cell_type": "code",
   "execution_count": 49,
   "metadata": {},
   "outputs": [
    {
     "name": "stdout",
     "output_type": "stream",
     "text": [
      "Revenue of Each Company Each Year:\n",
      " Company    Pink Cab   Yellow Cab\n",
      "Year                            \n",
      "2016     7908479.23  38481133.18\n",
      "2017     9578629.54  45818910.04\n",
      "2018     8841142.56  41553843.97\n"
     ]
    },
    {
     "data": {
      "image/png": "[encoded data removed]",
      "text/plain": [
       "<Figure size 1000x600 with 1 Axes>"
      ]
     },
     "metadata": {},
     "output_type": "display_data"
    }
   ],
   "source": [
    "# Extract the year from the \"Date of Travel\" column\n",
    "master_data[\"Year\"] = pd.to_datetime(master_data[\"Date of Travel\"]).dt.year\n",
    "\n",
    "# Calculate revenue for each company for each year\n",
    "revenue_by_company_year = master_data.groupby([\"Year\", \"Company\"])[\"Price Charged\"].sum()\n",
    "\n",
    "# Unstack the data for better visualization\n",
    "revenue_by_company_year_unstacked = revenue_by_company_year.unstack()\n",
    "\n",
    "# Print the revenue data (optional)\n",
    "print(\"Revenue of Each Company Each Year:\\n\", revenue_by_company_year_unstacked)\n",
    "\n",
    "# Plot the data\n",
    "revenue_by_company_year_unstacked.plot(kind=\"bar\", figsize=(10, 6), width=0.8)\n",
    "plt.title(\"Revenue of Each Company Each Year\", fontsize=14)\n",
    "plt.xlabel(\"Year\", fontsize=12)\n",
    "plt.ylabel(\"Total Revenue (USD)\", fontsize=12)\n",
    "plt.xticks(rotation=0)\n",
    "plt.legend(title=\"Company\")\n",
    "plt.tight_layout()\n",
    "plt.show()\n",
    "\n",
    "\n"
   ]
  }
 ],
 "metadata": {
  "kernelspec": {
   "display_name": "base",
   "language": "python",
   "name": "python3"
  },
  "language_info": {
   "codemirror_mode": {
    "name": "ipython",
    "version": 3
   },
   "file_extension": ".py",
   "mimetype": "text/x-python",
   "name": "python",
   "nbconvert_exporter": "python",
   "pygments_lexer": "ipython3",
   "version": "3.12.7"
  }
 },
 "nbformat": 4,
 "nbformat_minor": 2
}
